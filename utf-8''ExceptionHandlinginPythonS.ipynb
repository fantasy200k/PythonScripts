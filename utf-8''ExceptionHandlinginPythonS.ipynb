{
  "cells": [
    {
      "metadata": {
        "trusted": true
      },
      "cell_type": "code",
      "source": "print (\"Om NamaShivaya Namah\")",
      "execution_count": 1,
      "outputs": [
        {
          "output_type": "stream",
          "text": "Om NamaShivaya Namah\n",
          "name": "stdout"
        }
      ]
    },
    {
      "metadata": {
        "trusted": true
      },
      "cell_type": "code",
      "source": "import numpy as np",
      "execution_count": 2,
      "outputs": []
    },
    {
      "metadata": {},
      "cell_type": "markdown",
      "source": "## There are three types of errors you’ll come across with your code: Syntax errors, run time errors and logical errors."
    },
    {
      "metadata": {},
      "cell_type": "markdown",
      "source": "### Python will find these kinds of errors when it tries to parse your program, and exit with an error message \n** without running anything. Syntax errors are mistakes in the use of the Python language, and are similar to\n** spelling or grammar mistakes in a language like English: for example, the sentence Would you some tea?does not make sense – it is missing a verb."
    },
    {
      "metadata": {},
      "cell_type": "markdown",
      "source": "## Syntax errors\n\n** Syntax errors happen when you break the rules of the language like accidentally missing out a \" or ). Syntax errors stop your code from running at all. **\n"
    },
    {
      "metadata": {},
      "cell_type": "markdown",
      "source": "** Common Python syntax errors include\n* leaving out a keyword\n* putting a keyword in the wrong place\n* leaving out a symbol, such as a colon, comma or brackets\n* misspelling a keyword\n* incorrect indentation\n* empty block"
    },
    {
      "metadata": {
        "trusted": true
      },
      "cell_type": "code",
      "source": "x = 10\nif x == 10\n    print(x)",
      "execution_count": 7,
      "outputs": [
        {
          "output_type": "error",
          "ename": "SyntaxError",
          "evalue": "invalid syntax (<ipython-input-7-71b1ca08e615>, line 2)",
          "traceback": [
            "\u001b[0;36m  File \u001b[0;32m\"<ipython-input-7-71b1ca08e615>\"\u001b[0;36m, line \u001b[0;32m2\u001b[0m\n\u001b[0;31m    if x == 10\u001b[0m\n\u001b[0m              ^\u001b[0m\n\u001b[0;31mSyntaxError\u001b[0m\u001b[0;31m:\u001b[0m invalid syntax\n"
          ]
        }
      ]
    },
    {
      "metadata": {
        "trusted": true
      },
      "cell_type": "code",
      "source": "ffor i in range(10):\n    for = i + 10\n    print(for)\n",
      "execution_count": 11,
      "outputs": [
        {
          "output_type": "error",
          "ename": "SyntaxError",
          "evalue": "invalid syntax (<ipython-input-11-3f8f3cad7366>, line 1)",
          "traceback": [
            "\u001b[0;36m  File \u001b[0;32m\"<ipython-input-11-3f8f3cad7366>\"\u001b[0;36m, line \u001b[0;32m1\u001b[0m\n\u001b[0;31m    ffor i in range(10):\u001b[0m\n\u001b[0m         ^\u001b[0m\n\u001b[0;31mSyntaxError\u001b[0m\u001b[0;31m:\u001b[0m invalid syntax\n"
          ]
        }
      ]
    },
    {
      "metadata": {},
      "cell_type": "markdown",
      "source": "### Example for runtime error  - Run time errors make your program crash\n\n* If a program is syntactically correct – that is, free of syntax errors – it will be run by the Python interpreter. However, the program may exit unexpectedly during execution if it encounters a runtime error – a problem which was not detected when the program was parsed, but is only revealed when a particular line is executed. When a program comes to a halt because of a runtime error, we say that it has crashed."
    },
    {
      "metadata": {},
      "cell_type": "markdown",
      "source": "* Some examples of Python runtime errors:\n\n* division by zero\n* performing an operation on incompatible types\n* using an identifier which has not been defined\n* accessing a list element, dictionary value or object attribute which doesn’t exist\n* trying to access a file which doesn’t exist *"
    },
    {
      "metadata": {
        "trusted": true
      },
      "cell_type": "code",
      "source": "x = 10\ny = 0\nres = x/y\nprint(res)\nz = x + y\nprint(z)",
      "execution_count": 4,
      "outputs": [
        {
          "output_type": "error",
          "ename": "ZeroDivisionError",
          "evalue": "division by zero",
          "traceback": [
            "\u001b[0;31m---------------------------------------------------------------------------\u001b[0m",
            "\u001b[0;31mZeroDivisionError\u001b[0m                         Traceback (most recent call last)",
            "\u001b[0;32m<ipython-input-4-ff0cabaed9f2>\u001b[0m in \u001b[0;36m<module>\u001b[0;34m()\u001b[0m\n\u001b[1;32m      1\u001b[0m \u001b[0mx\u001b[0m \u001b[0;34m=\u001b[0m \u001b[0;36m10\u001b[0m\u001b[0;34m\u001b[0m\u001b[0m\n\u001b[1;32m      2\u001b[0m \u001b[0my\u001b[0m \u001b[0;34m=\u001b[0m \u001b[0;36m0\u001b[0m\u001b[0;34m\u001b[0m\u001b[0m\n\u001b[0;32m----> 3\u001b[0;31m \u001b[0mres\u001b[0m \u001b[0;34m=\u001b[0m \u001b[0mx\u001b[0m\u001b[0;34m/\u001b[0m\u001b[0my\u001b[0m\u001b[0;34m\u001b[0m\u001b[0m\n\u001b[0m\u001b[1;32m      4\u001b[0m \u001b[0mprint\u001b[0m\u001b[0;34m(\u001b[0m\u001b[0mres\u001b[0m\u001b[0;34m)\u001b[0m\u001b[0;34m\u001b[0m\u001b[0m\n\u001b[1;32m      5\u001b[0m \u001b[0mz\u001b[0m \u001b[0;34m=\u001b[0m \u001b[0mx\u001b[0m \u001b[0;34m+\u001b[0m \u001b[0my\u001b[0m\u001b[0;34m\u001b[0m\u001b[0m\n",
            "\u001b[0;31mZeroDivisionError\u001b[0m: division by zero"
          ]
        }
      ]
    },
    {
      "metadata": {
        "trusted": true
      },
      "cell_type": "code",
      "source": "x = 6\ny =  0\n\ntry:\n    print(x/y)\nexcept Exception as e:\n    print(\" You cant divide \", e)\n\nprint(x+y)",
      "execution_count": 2,
      "outputs": [
        {
          "output_type": "stream",
          "text": " You cant divide  division by zero\n6\n",
          "name": "stdout"
        }
      ]
    },
    {
      "metadata": {
        "trusted": true
      },
      "cell_type": "code",
      "source": "x = 6\ny =  0\n\ntry:\n    print(x/y)\nexcept ZeroDivisionError :\n    print(\" You cant divide \")\n\nprint(x+y)",
      "execution_count": 3,
      "outputs": [
        {
          "output_type": "stream",
          "text": " You cant divide \n6\n",
          "name": "stdout"
        }
      ]
    },
    {
      "metadata": {
        "trusted": true
      },
      "cell_type": "markdown",
      "source": "## Logical Errors\n\n* Logical errors – also called semantic errors, logical errors cause the program to behave incorrectly, but they do not usually crash the program *\n\n* Unlike a program with syntax errors, a program with logic errors can be run, but it does not operate as intended\n\n\n** Finding and fixing runtime errors is easier than debugging logic errors because you will at least get an error message that usually ** tells you which line of code that is broken.\n\n** Logic errors are harder to find because you might never see an error message and your program might never crash."
    },
    {
      "metadata": {},
      "cell_type": "markdown",
      "source": "* Here are some examples of mistakes which lead to logical errors:\n\n* using the wrong variable name\n* indenting a block to the wrong level\n* using integer division instead of floating point division\n* getting operator precedence wrong\n* making a mistake in a boolean expression\n* off-by-one, and other numerical errors"
    },
    {
      "metadata": {
        "trusted": true
      },
      "cell_type": "code",
      "source": "a = float(input('Enter a number: '))\nb = float(input('Enter a number: '))\n\nres = a+b/2\nprint ('The average of the two numbers you have entered is:',res)",
      "execution_count": 12,
      "outputs": [
        {
          "output_type": "stream",
          "name": "stdout",
          "text": "Enter a number: 10\nEnter a number: 20\nThe average of the two numbers you have entered is: 20.0\n"
        }
      ]
    },
    {
      "metadata": {
        "trusted": false
      },
      "cell_type": "code",
      "source": "l1 = [2,4,6,8]\nl1[4]",
      "execution_count": 57,
      "outputs": [
        {
          "ename": "IndexError",
          "evalue": "list index out of range",
          "output_type": "error",
          "traceback": [
            "\u001b[1;31m---------------------------------------------------------------------------\u001b[0m",
            "\u001b[1;31mIndexError\u001b[0m                                Traceback (most recent call last)",
            "\u001b[1;32m<ipython-input-57-9931a3bbe1c0>\u001b[0m in \u001b[0;36m<module>\u001b[1;34m\u001b[0m\n\u001b[0;32m      1\u001b[0m \u001b[0ml1\u001b[0m \u001b[1;33m=\u001b[0m \u001b[1;33m[\u001b[0m\u001b[1;36m2\u001b[0m\u001b[1;33m,\u001b[0m\u001b[1;36m4\u001b[0m\u001b[1;33m,\u001b[0m\u001b[1;36m6\u001b[0m\u001b[1;33m,\u001b[0m\u001b[1;36m8\u001b[0m\u001b[1;33m]\u001b[0m\u001b[1;33m\u001b[0m\u001b[1;33m\u001b[0m\u001b[0m\n\u001b[1;32m----> 2\u001b[1;33m \u001b[0ml1\u001b[0m\u001b[1;33m[\u001b[0m\u001b[1;36m4\u001b[0m\u001b[1;33m]\u001b[0m\u001b[1;33m\u001b[0m\u001b[1;33m\u001b[0m\u001b[0m\n\u001b[0m",
            "\u001b[1;31mIndexError\u001b[0m: list index out of range"
          ]
        }
      ]
    },
    {
      "metadata": {
        "trusted": false
      },
      "cell_type": "code",
      "source": "# The try block will generate an exception, because x is not defined:\n# The try block lets you test a block of code for errors.\n#The except block lets you handle the error.\n\n# you have something called finally block that  lets you execute code, regardless of the result of the try- and except blocks.\ntry:\n    X=None\n    print(X1)\nexcept:\n    print(\"An exception occurred\")\n    \n# Since the try block raises an error, the except block will be executed.\n\n#Without the try block, the program will crash and raise an error:",
      "execution_count": 1,
      "outputs": [
        {
          "name": "stdout",
          "output_type": "stream",
          "text": "An exception occurred\n"
        }
      ]
    },
    {
      "metadata": {
        "trusted": false
      },
      "cell_type": "code",
      "source": "# You can use the else keyword to define a block of code to be executed if no errors were raised:\ntry:\n    print(\"Hello\")\nexcept:\n    print(\"Something went wrong\")\nelse:\n    print(\"Nothing went wrong\")",
      "execution_count": 2,
      "outputs": [
        {
          "name": "stdout",
          "output_type": "stream",
          "text": "Hello\nNothing went wrong\n"
        }
      ]
    },
    {
      "metadata": {
        "trusted": true
      },
      "cell_type": "code",
      "source": "# You can use the else keyword to define a block of code to be executed if no errors were raised:\ntry:\n    print(\"Hello\")\n    x = 10/0\nexcept:\n    print(\"Something went wrong\")\nelse:\n    print(\"Nothing went wrong\")",
      "execution_count": 3,
      "outputs": [
        {
          "output_type": "stream",
          "text": "Hello\nSomething went wrong\n",
          "name": "stdout"
        }
      ]
    },
    {
      "metadata": {
        "trusted": false
      },
      "cell_type": "code",
      "source": "# The finally block, if specified, will be executed regardless if the try block raises an error or not.\ntry:\n    print(x)\nexcept:\n    print(\"Something went wrong\")\nfinally:\n    print(\"The 'try except' is finished\")\n",
      "execution_count": 3,
      "outputs": [
        {
          "name": "stdout",
          "output_type": "stream",
          "text": "Something went wrong\nThe 'try except' is finished\n"
        }
      ]
    },
    {
      "metadata": {
        "trusted": false
      },
      "cell_type": "code",
      "source": "basic = 10000\nhra = 20000\nif hra > basic:\n    raise Exception(\"Sorry hra cannot be greater than basic\")\n# o throw (or raise) an exception, use the raise keyword.",
      "execution_count": 4,
      "outputs": [
        {
          "ename": "Exception",
          "evalue": "Sorry hra cannot be greater than basic",
          "output_type": "error",
          "traceback": [
            "\u001b[1;31m---------------------------------------------------------------------------\u001b[0m",
            "\u001b[1;31mException\u001b[0m                                 Traceback (most recent call last)",
            "\u001b[1;32m<ipython-input-4-da0d7e0952f8>\u001b[0m in \u001b[0;36m<module>\u001b[1;34m\u001b[0m\n\u001b[0;32m      2\u001b[0m \u001b[0mhra\u001b[0m \u001b[1;33m=\u001b[0m \u001b[1;36m20000\u001b[0m\u001b[1;33m\u001b[0m\u001b[1;33m\u001b[0m\u001b[0m\n\u001b[0;32m      3\u001b[0m \u001b[1;32mif\u001b[0m \u001b[0mhra\u001b[0m \u001b[1;33m>\u001b[0m \u001b[0mbasic\u001b[0m\u001b[1;33m:\u001b[0m\u001b[1;33m\u001b[0m\u001b[1;33m\u001b[0m\u001b[0m\n\u001b[1;32m----> 4\u001b[1;33m     \u001b[1;32mraise\u001b[0m \u001b[0mException\u001b[0m\u001b[1;33m(\u001b[0m\u001b[1;34m\"Sorry hra cannot be greater than basic\"\u001b[0m\u001b[1;33m)\u001b[0m\u001b[1;33m\u001b[0m\u001b[1;33m\u001b[0m\u001b[0m\n\u001b[0m\u001b[0;32m      5\u001b[0m \u001b[1;31m# o throw (or raise) an exception, use the raise keyword.\u001b[0m\u001b[1;33m\u001b[0m\u001b[1;33m\u001b[0m\u001b[1;33m\u001b[0m\u001b[0m\n",
            "\u001b[1;31mException\u001b[0m: Sorry hra cannot be greater than basic"
          ]
        }
      ]
    },
    {
      "metadata": {
        "trusted": false
      },
      "cell_type": "code",
      "source": "x = input(\"enter number 1 \")\ny = input(\"enter number 2 \")\n\nz = int(x) / int(y)  # it stopped the program at this point \n\na1=100\nb1=200\na1+b1",
      "execution_count": 5,
      "outputs": [
        {
          "name": "stdout",
          "output_type": "stream",
          "text": "enter number 1 2\nenter number 2 0\n"
        },
        {
          "ename": "ZeroDivisionError",
          "evalue": "division by zero",
          "output_type": "error",
          "traceback": [
            "\u001b[1;31m---------------------------------------------------------------------------\u001b[0m",
            "\u001b[1;31mZeroDivisionError\u001b[0m                         Traceback (most recent call last)",
            "\u001b[1;32m<ipython-input-5-814b2c80da23>\u001b[0m in \u001b[0;36m<module>\u001b[1;34m\u001b[0m\n\u001b[0;32m      2\u001b[0m \u001b[0my\u001b[0m \u001b[1;33m=\u001b[0m \u001b[0minput\u001b[0m\u001b[1;33m(\u001b[0m\u001b[1;34m\"enter number 2 \"\u001b[0m\u001b[1;33m)\u001b[0m\u001b[1;33m\u001b[0m\u001b[1;33m\u001b[0m\u001b[0m\n\u001b[0;32m      3\u001b[0m \u001b[1;33m\u001b[0m\u001b[0m\n\u001b[1;32m----> 4\u001b[1;33m \u001b[0mz\u001b[0m \u001b[1;33m=\u001b[0m \u001b[0mint\u001b[0m\u001b[1;33m(\u001b[0m\u001b[0mx\u001b[0m\u001b[1;33m)\u001b[0m \u001b[1;33m/\u001b[0m \u001b[0mint\u001b[0m\u001b[1;33m(\u001b[0m\u001b[0my\u001b[0m\u001b[1;33m)\u001b[0m  \u001b[1;31m# it stopped the program at this point\u001b[0m\u001b[1;33m\u001b[0m\u001b[1;33m\u001b[0m\u001b[0m\n\u001b[0m\u001b[0;32m      5\u001b[0m \u001b[1;33m\u001b[0m\u001b[0m\n\u001b[0;32m      6\u001b[0m \u001b[0ma1\u001b[0m\u001b[1;33m=\u001b[0m\u001b[1;36m100\u001b[0m\u001b[1;33m\u001b[0m\u001b[1;33m\u001b[0m\u001b[0m\n",
            "\u001b[1;31mZeroDivisionError\u001b[0m: division by zero"
          ]
        }
      ]
    },
    {
      "metadata": {
        "trusted": false
      },
      "cell_type": "code",
      "source": "x = input(\"enter number 1 \")\ny = input(\"enter number 2 \")\ntry:\n    z = int(x) / int(y)  # it stopped the program at this point \nexcept ZeroDivisionError as e:\n    print ('Division by Zero')\n    z=None\nelse:\n    print('No issues it computed successflly')\nprint('Divisoin is ' ,z)\na1=100\nb1=200\na1+b1",
      "execution_count": 65,
      "outputs": [
        {
          "name": "stdout",
          "output_type": "stream",
          "text": "enter number 1 10\nenter number 2 2\nNo issues it computed successflly\nDivisoin is  5.0\n"
        },
        {
          "data": {
            "text/plain": "300"
          },
          "execution_count": 65,
          "metadata": {},
          "output_type": "execute_result"
        }
      ]
    },
    {
      "metadata": {
        "trusted": false
      },
      "cell_type": "code",
      "source": "x = input(\"enter number 1 \")\ny = input(\"enter number 2 \")\ntry:\n    z = x / int(y)  # it stopped the program at this point \nexcept ZeroDivisionError as e:\n    print ('Division by Zero')\n    z=None\n#except Exception as e:\n  #  print (\"Exception  type\", type(e).__name__)\nexcept TypeError as e:\n    print('Type Error Excepti0n')\n    z = None\nprint('Divisoin is ' ,z)",
      "execution_count": 74,
      "outputs": [
        {
          "name": "stdout",
          "output_type": "stream",
          "text": "enter number 1 2\nenter number 2 2\nType Error Excepti0n\nDivisoin is  None\n"
        }
      ]
    },
    {
      "metadata": {
        "trusted": false
      },
      "cell_type": "code",
      "source": "x = input(\"enter number 1 \")\ny = input(\"enter number 2 \")\nprint(y)\nz = int(x) / int(y)  # it stopped the program at this point \na=20\nb=21\na+b",
      "execution_count": 60,
      "outputs": [
        {
          "name": "stdout",
          "output_type": "stream",
          "text": "enter number 1 10\nenter number 2 0\n0\n"
        },
        {
          "ename": "ZeroDivisionError",
          "evalue": "division by zero",
          "output_type": "error",
          "traceback": [
            "\u001b[1;31m---------------------------------------------------------------------------\u001b[0m",
            "\u001b[1;31mZeroDivisionError\u001b[0m                         Traceback (most recent call last)",
            "\u001b[1;32m<ipython-input-60-4a4eddff14fd>\u001b[0m in \u001b[0;36m<module>\u001b[1;34m\u001b[0m\n\u001b[0;32m      2\u001b[0m \u001b[0my\u001b[0m \u001b[1;33m=\u001b[0m \u001b[0minput\u001b[0m\u001b[1;33m(\u001b[0m\u001b[1;34m\"enter number 2 \"\u001b[0m\u001b[1;33m)\u001b[0m\u001b[1;33m\u001b[0m\u001b[1;33m\u001b[0m\u001b[0m\n\u001b[0;32m      3\u001b[0m \u001b[0mprint\u001b[0m\u001b[1;33m(\u001b[0m\u001b[0my\u001b[0m\u001b[1;33m)\u001b[0m\u001b[1;33m\u001b[0m\u001b[1;33m\u001b[0m\u001b[0m\n\u001b[1;32m----> 4\u001b[1;33m \u001b[0mz\u001b[0m \u001b[1;33m=\u001b[0m \u001b[0mint\u001b[0m\u001b[1;33m(\u001b[0m\u001b[0mx\u001b[0m\u001b[1;33m)\u001b[0m \u001b[1;33m/\u001b[0m \u001b[0mint\u001b[0m\u001b[1;33m(\u001b[0m\u001b[0my\u001b[0m\u001b[1;33m)\u001b[0m  \u001b[1;31m# it stopped the program at this point\u001b[0m\u001b[1;33m\u001b[0m\u001b[1;33m\u001b[0m\u001b[0m\n\u001b[0m\u001b[0;32m      5\u001b[0m \u001b[0ma\u001b[0m\u001b[1;33m=\u001b[0m\u001b[1;36m20\u001b[0m\u001b[1;33m\u001b[0m\u001b[1;33m\u001b[0m\u001b[0m\n\u001b[0;32m      6\u001b[0m \u001b[0mb\u001b[0m\u001b[1;33m=\u001b[0m\u001b[1;36m21\u001b[0m\u001b[1;33m\u001b[0m\u001b[1;33m\u001b[0m\u001b[0m\n",
            "\u001b[1;31mZeroDivisionError\u001b[0m: division by zero"
          ]
        }
      ]
    },
    {
      "metadata": {
        "trusted": false
      },
      "cell_type": "code",
      "source": "x = input(\"enter number 1 \")\ny = input(\"enter number 2 \")\nprint(y)\n\nz = int(x) / int(y)  # it stopped the program at this point \na=20\nb=21\na+b",
      "execution_count": null,
      "outputs": []
    },
    {
      "metadata": {
        "trusted": false
      },
      "cell_type": "code",
      "source": "x = input(\"enter number 1 \")\ny = input(\"enter number 2 \")\nprint(y)\nz = x / int(y)  # it stopped the program at this point \nz",
      "execution_count": 22,
      "outputs": [
        {
          "name": "stdout",
          "output_type": "stream",
          "text": "enter number 1 '2'\nenter number 2 10\n10\n"
        },
        {
          "ename": "TypeError",
          "evalue": "unsupported operand type(s) for /: 'str' and 'int'",
          "output_type": "error",
          "traceback": [
            "\u001b[1;31m---------------------------------------------------------------------------\u001b[0m",
            "\u001b[1;31mTypeError\u001b[0m                                 Traceback (most recent call last)",
            "\u001b[1;32m<ipython-input-22-b31b001636dc>\u001b[0m in \u001b[0;36m<module>\u001b[1;34m\u001b[0m\n\u001b[0;32m      2\u001b[0m \u001b[0my\u001b[0m \u001b[1;33m=\u001b[0m \u001b[0minput\u001b[0m\u001b[1;33m(\u001b[0m\u001b[1;34m\"enter number 2 \"\u001b[0m\u001b[1;33m)\u001b[0m\u001b[1;33m\u001b[0m\u001b[1;33m\u001b[0m\u001b[0m\n\u001b[0;32m      3\u001b[0m \u001b[0mprint\u001b[0m\u001b[1;33m(\u001b[0m\u001b[0my\u001b[0m\u001b[1;33m)\u001b[0m\u001b[1;33m\u001b[0m\u001b[1;33m\u001b[0m\u001b[0m\n\u001b[1;32m----> 4\u001b[1;33m \u001b[0mz\u001b[0m \u001b[1;33m=\u001b[0m \u001b[0mx\u001b[0m \u001b[1;33m/\u001b[0m \u001b[0mint\u001b[0m\u001b[1;33m(\u001b[0m\u001b[0my\u001b[0m\u001b[1;33m)\u001b[0m  \u001b[1;31m# it stopped the program at this point\u001b[0m\u001b[1;33m\u001b[0m\u001b[1;33m\u001b[0m\u001b[0m\n\u001b[0m\u001b[0;32m      5\u001b[0m \u001b[0mz\u001b[0m\u001b[1;33m\u001b[0m\u001b[1;33m\u001b[0m\u001b[0m\n",
            "\u001b[1;31mTypeError\u001b[0m: unsupported operand type(s) for /: 'str' and 'int'"
          ]
        }
      ]
    },
    {
      "metadata": {
        "trusted": false
      },
      "cell_type": "code",
      "source": "x = input(\"enter number 1 \")\ny = input(\"enter number 2 \")\nprint(y)\nz = int(x) / int(y)  # it stopped the program at this point \nz",
      "execution_count": null,
      "outputs": []
    },
    {
      "metadata": {
        "trusted": false
      },
      "cell_type": "code",
      "source": "'xyz' + 10\n# whenever your program terminates execution this is called crash, program crash",
      "execution_count": 16,
      "outputs": [
        {
          "ename": "TypeError",
          "evalue": "can only concatenate str (not \"int\") to str",
          "output_type": "error",
          "traceback": [
            "\u001b[1;31m---------------------------------------------------------------------------\u001b[0m",
            "\u001b[1;31mTypeError\u001b[0m                                 Traceback (most recent call last)",
            "\u001b[1;32m<ipython-input-16-dff919e98930>\u001b[0m in \u001b[0;36m<module>\u001b[1;34m\u001b[0m\n\u001b[1;32m----> 1\u001b[1;33m \u001b[1;34m'xyz'\u001b[0m \u001b[1;33m+\u001b[0m \u001b[1;36m10\u001b[0m\u001b[1;33m\u001b[0m\u001b[1;33m\u001b[0m\u001b[0m\n\u001b[0m",
            "\u001b[1;31mTypeError\u001b[0m: can only concatenate str (not \"int\") to str"
          ]
        }
      ]
    },
    {
      "metadata": {
        "trusted": false
      },
      "cell_type": "code",
      "source": "x = input(\"enter number 1\")\ny = input(\"enter number 2\")\ntry:\n       z = int(x) / int(y)\nexcept:\n    print (\"Exception occurred\")\n    z = None\n    print ('Division is ',z)\n# here it executed this code chunk without any crash\n\nx1=100\ny1=200\nprint(x1+y1)\n# here the interesting aspect of this one is , it executed the program without any crash\n# lets say if you have 100 lines of code returned below this line it will all get execued\n# if you handle exception this way. Thi sprogram is pretty stable it works with normal scenarios\n# where the exception don't happen it ",
      "execution_count": 12,
      "outputs": [
        {
          "name": "stdout",
          "output_type": "stream",
          "text": "enter number 1100\nenter number 20\nException occurred\nDivision is  None\n300\n"
        }
      ]
    },
    {
      "metadata": {
        "trusted": false
      },
      "cell_type": "code",
      "source": "x = 100\n#y = 10\ny=0\ntry:\n        z1 = int(x) / int(y)\n        print (z1)\nexcept Exception  as e:\n    print ('You cannot divide an integer by zero')\n    print ('Division is ',z1)\n\nx1=100\ny1=200\nprint(x1+y1)",
      "execution_count": 19,
      "outputs": [
        {
          "name": "stdout",
          "output_type": "stream",
          "text": "You cannot divide an integer by zero\nDivision is  10.0\n300\n"
        }
      ]
    },
    {
      "metadata": {
        "trusted": false
      },
      "cell_type": "code",
      "source": "x = input(\"enter number 1\")\ny = input(\"enter number 2\")\ntry:\n       z = int(x) / int(y)\nexcept ZeroDivisionError as e:\n    print (\"Division by zero exception : \", e)\n    z = None\n    print ('Division is ',z)\n# here it executed this code chunk without any crash\n\nx1=100\ny1=200\nprint(x1+y1)\n# here the interesting aspect of this one is , it executed the program without any crash\n# lets say if you have 100 lines of code returned below this line it will all get execued\n# if you handle exception this way. Thi sprogram is pretty stable it works with normal scenarios\n# where the exception don't happen it ",
      "execution_count": 21,
      "outputs": [
        {
          "name": "stdout",
          "output_type": "stream",
          "text": "enter number 110\nenter number 20\nDivision by zero exception :  division by zero\nDivision is  None\n300\n"
        }
      ]
    },
    {
      "metadata": {
        "trusted": false
      },
      "cell_type": "code",
      "source": "import numpy as np\nimport pandas as pd\nmarks2 = open('marks.csv')",
      "execution_count": 36,
      "outputs": [
        {
          "ename": "FileNotFoundError",
          "evalue": "[Errno 2] No such file or directory: 'marks.csv'",
          "output_type": "error",
          "traceback": [
            "\u001b[1;31m---------------------------------------------------------------------------\u001b[0m",
            "\u001b[1;31mFileNotFoundError\u001b[0m                         Traceback (most recent call last)",
            "\u001b[1;32m<ipython-input-36-4f34b1690c1b>\u001b[0m in \u001b[0;36m<module>\u001b[1;34m\u001b[0m\n\u001b[0;32m      1\u001b[0m \u001b[1;32mimport\u001b[0m \u001b[0mnumpy\u001b[0m \u001b[1;32mas\u001b[0m \u001b[0mnp\u001b[0m\u001b[1;33m\u001b[0m\u001b[1;33m\u001b[0m\u001b[0m\n\u001b[0;32m      2\u001b[0m \u001b[1;32mimport\u001b[0m \u001b[0mpandas\u001b[0m \u001b[1;32mas\u001b[0m \u001b[0mpd\u001b[0m\u001b[1;33m\u001b[0m\u001b[1;33m\u001b[0m\u001b[0m\n\u001b[1;32m----> 3\u001b[1;33m \u001b[0mmarks2\u001b[0m \u001b[1;33m=\u001b[0m \u001b[0mopen\u001b[0m\u001b[1;33m(\u001b[0m\u001b[1;34m'marks.csv'\u001b[0m\u001b[1;33m)\u001b[0m\u001b[1;33m\u001b[0m\u001b[1;33m\u001b[0m\u001b[0m\n\u001b[0m",
            "\u001b[1;31mFileNotFoundError\u001b[0m: [Errno 2] No such file or directory: 'marks.csv'"
          ]
        }
      ]
    },
    {
      "metadata": {
        "trusted": false
      },
      "cell_type": "code",
      "source": "try:\n    f = open(\"exceptfile.txt\")\n    print(f.read())\nexcept Exception as e:\n   # print(\"Something went wrong when writing to the file\")\n    print(e)\nfinally:\n    f.close()\n#The program can continue, without leaving the file object open.",
      "execution_count": 67,
      "outputs": [
        {
          "name": "stdout",
          "output_type": "stream",
          "text": "this is to demonstrate the file manipulations\n"
        }
      ]
    },
    {
      "metadata": {
        "trusted": false
      },
      "cell_type": "code",
      "source": "try:\n    marks2 = open('marks.csv')\nexcept:\n    print ('unfortunately this file doesnt exists , please specify the file name or path correctly' )\n",
      "execution_count": 6,
      "outputs": [
        {
          "name": "stdout",
          "output_type": "stream",
          "text": "unfortunately this file doesnt exists , please specify the file name or path correctly\n"
        },
        {
          "data": {
            "text/plain": "2"
          },
          "execution_count": 6,
          "metadata": {},
          "output_type": "execute_result"
        }
      ]
    },
    {
      "metadata": {
        "trusted": false
      },
      "cell_type": "code",
      "source": "try:\n    marks2 = open('marks.csv')\n    i = x\nexcept:\n    print ('unfortunately this file doesnt exists , please specify the file name or path correctly' )\n",
      "execution_count": 6,
      "outputs": [
        {
          "name": "stdout",
          "output_type": "stream",
          "text": "unfortunately this file doesnt exists , please specify the file name or path correctly\n"
        }
      ]
    },
    {
      "metadata": {
        "trusted": false
      },
      "cell_type": "code",
      "source": "try:\n    marks2 = open('marks.csv')\n    i = x\nexcept FileNotFoundError as e:\n    print (e)\n    print ('unfortunately this file doesnt exists , please specify the file name or path correctly' )\n",
      "execution_count": 7,
      "outputs": [
        {
          "name": "stdout",
          "output_type": "stream",
          "text": "[Errno 2] No such file or directory: 'marks.csv'\nunfortunately this file doesnt exists , please specify the file name or path correctly\n"
        }
      ]
    },
    {
      "metadata": {
        "trusted": false
      },
      "cell_type": "code",
      "source": "try:\n    marks2 = open('marks.csv')\n    i = x\nexcept FileNotFoundError :\n    # print (e)\n    print ('unfortunately this file doesnt exists , please specify the file name or path correctly' )\nexcept Exception:\n    print ('Sorry something got messed up here')",
      "execution_count": 1,
      "outputs": [
        {
          "name": "stdout",
          "output_type": "stream",
          "text": "unfortunately this file doesnt exists , please specify the file name or path correctly\n"
        }
      ]
    },
    {
      "metadata": {
        "trusted": false
      },
      "cell_type": "code",
      "source": "try:\n    marks2 = open('D:/dat1/marks.csv')\n    i = x\nexcept Exception:\n    print ('Sorry something got messed up here')\nexcept FileNotFoundError :\n    # print (e)\n    print ('unfortunately this file doesnt exists , please specify the file name or path correctly' )\n",
      "execution_count": 2,
      "outputs": [
        {
          "name": "stdout",
          "output_type": "stream",
          "text": "Sorry something got messed up here\n"
        }
      ]
    },
    {
      "metadata": {
        "trusted": false
      },
      "cell_type": "code",
      "source": "# instead of printing the custom message it prints out the exception that we hit which is the \n# bad_var is not defined \ntry:\n    marks2 = open('marks.csv')\n    i = x\nexcept Exception as e:\n    print(e)\n    print ('Sorry something got messed up here')\nexcept FileNotFoundError :\n    print (e)\n    print ('unfortunately this file doesnt exists , please specify the file name or path correctly' )",
      "execution_count": 14,
      "outputs": [
        {
          "name": "stdout",
          "output_type": "stream",
          "text": "[Errno 2] No such file or directory: 'marks.csv'\nSorry something got messed up here\n"
        }
      ]
    },
    {
      "metadata": {
        "trusted": false
      },
      "cell_type": "code",
      "source": "# manually raise exceptions \ntry:\n    marks2 = open('marks.csv')   \nexcept FileNotFoundError as e:\n    print (e)\n    print ('unfortunately this file doesnt exists , please specify the file name or path correctly' )\nexcept Exception as e:\n    print(e)\n    print ('Error !')\nelse:\n    print (marks2.fread())\n    marks2.close()\nfinally:\n    print (\"Executing finally\")",
      "execution_count": 7,
      "outputs": [
        {
          "name": "stdout",
          "output_type": "stream",
          "text": "[Errno 2] No such file or directory: 'marks.csv'\nunfortunately this file doesnt exists , please specify the file name or path correctly\nExecuting finally\n"
        }
      ]
    },
    {
      "metadata": {
        "trusted": false
      },
      "cell_type": "code",
      "source": "# manually raise exceptions \n\n    marks2 = open('marks.csv')\n    if marks2 == 'marks.csv':\n        raise Exception\nexcept Exception as e:\n    print(e)\n    print ('Error !')\nexcept FileNotFoundError :\n    print (e)\n    print ('unfortunately this file doesnt exists , please specify the file name or path correctly' )",
      "execution_count": 15,
      "outputs": [
        {
          "name": "stdout",
          "output_type": "stream",
          "text": "[Errno 2] No such file or directory: 'marks.csv'\nError !\n"
        }
      ]
    },
    {
      "metadata": {
        "trusted": false
      },
      "cell_type": "code",
      "source": "d1 = {'IT':0,'Cloud':1,'mapp':2,'energy':3}\ntype(d1)",
      "execution_count": 3,
      "outputs": [
        {
          "data": {
            "text/plain": "dict"
          },
          "execution_count": 3,
          "metadata": {},
          "output_type": "execute_result"
        }
      ]
    },
    {
      "metadata": {
        "trusted": false
      },
      "cell_type": "code",
      "source": "d1['mapp']=222",
      "execution_count": 5,
      "outputs": []
    },
    {
      "metadata": {
        "trusted": false
      },
      "cell_type": "code",
      "source": "d1",
      "execution_count": 6,
      "outputs": [
        {
          "data": {
            "text/plain": "{'IT': 0, 'Cloud': 1, 'mapp': 222, 'energy': 3}"
          },
          "execution_count": 6,
          "metadata": {},
          "output_type": "execute_result"
        }
      ]
    },
    {
      "metadata": {
        "trusted": false
      },
      "cell_type": "code",
      "source": "",
      "execution_count": null,
      "outputs": []
    }
  ],
  "metadata": {
    "kernelspec": {
      "name": "python3",
      "display_name": "Python 3",
      "language": "python"
    },
    "language_info": {
      "mimetype": "text/x-python",
      "nbconvert_exporter": "python",
      "name": "python",
      "pygments_lexer": "ipython3",
      "version": "3.5.4",
      "file_extension": ".py",
      "codemirror_mode": {
        "version": 3,
        "name": "ipython"
      }
    }
  },
  "nbformat": 4,
  "nbformat_minor": 2
}