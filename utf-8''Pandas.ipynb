{
  "cells": [
    {
      "metadata": {
        "trusted": true
      },
      "cell_type": "code",
      "source": "import numpy as np \nimport pandas as pd # web mckenny ",
      "execution_count": 1,
      "outputs": []
    },
    {
      "metadata": {
        "trusted": true
      },
      "cell_type": "code",
      "source": "df = pd.read_csv(\"/home/nbuser/warranty.csv\",sep=',')\ntype(df)",
      "execution_count": 3,
      "outputs": [
        {
          "output_type": "execute_result",
          "execution_count": 3,
          "data": {
            "text/plain": "pandas.core.frame.DataFrame"
          },
          "metadata": {}
        }
      ]
    },
    {
      "metadata": {
        "trusted": true
      },
      "cell_type": "code",
      "source": "df.head(2)",
      "execution_count": 5,
      "outputs": [
        {
          "output_type": "execute_result",
          "execution_count": 5,
          "data": {
            "text/html": "<div>\n<style scoped>\n    .dataframe tbody tr th:only-of-type {\n        vertical-align: middle;\n    }\n\n    .dataframe tbody tr th {\n        vertical-align: top;\n    }\n\n    .dataframe thead th {\n        text-align: right;\n    }\n</style>\n<table border=\"1\" class=\"dataframe\">\n  <thead>\n    <tr style=\"text-align: right;\">\n      <th></th>\n      <th>Row ID</th>\n      <th>Order_ID</th>\n      <th>Order_Date</th>\n      <th>Ship_Date</th>\n      <th>Ship_Mode</th>\n      <th>Customer_ID</th>\n      <th>Customer Name</th>\n      <th>Segment</th>\n      <th>City</th>\n      <th>State</th>\n      <th>...</th>\n      <th>Sub-Category</th>\n      <th>Product Name</th>\n      <th>Sales</th>\n      <th>Quantity</th>\n      <th>Discount</th>\n      <th>Profit</th>\n      <th>Shipping_Cost</th>\n      <th>Order_Priority</th>\n      <th>Return</th>\n      <th>Returned</th>\n    </tr>\n  </thead>\n  <tbody>\n    <tr>\n      <th>0</th>\n      <td>41520</td>\n      <td>MA-2013-1850</td>\n      <td>10/14/2013</td>\n      <td>10/15/2013</td>\n      <td>First Class</td>\n      <td>DH-3675</td>\n      <td>Duane Huffman</td>\n      <td>Home Office</td>\n      <td>Antananarivo</td>\n      <td>Analamanga</td>\n      <td>...</td>\n      <td>Machines</td>\n      <td>StarTech Printer, Red</td>\n      <td>$1,519.92</td>\n      <td>6.0</td>\n      <td>0.0</td>\n      <td>653.40</td>\n      <td>286.20</td>\n      <td>Critical</td>\n      <td>No</td>\n      <td>0</td>\n    </tr>\n    <tr>\n      <th>1</th>\n      <td>47596</td>\n      <td>CG-2012-2700</td>\n      <td>12/22/2012</td>\n      <td>12/24/2012</td>\n      <td>Second Class</td>\n      <td>DH-3675</td>\n      <td>Duane Huffman</td>\n      <td>Home Office</td>\n      <td>Kinshasa</td>\n      <td>Kinshasa</td>\n      <td>...</td>\n      <td>Bookcases</td>\n      <td>Dania Classic Bookcase, Traditional</td>\n      <td>$410.76</td>\n      <td>1.0</td>\n      <td>0.0</td>\n      <td>176.61</td>\n      <td>73.81</td>\n      <td>High</td>\n      <td>No</td>\n      <td>0</td>\n    </tr>\n  </tbody>\n</table>\n<p>2 rows × 26 columns</p>\n</div>",
            "text/plain": "   Row ID      Order_ID  Order_Date   Ship_Date     Ship_Mode Customer_ID  \\\n0   41520  MA-2013-1850  10/14/2013  10/15/2013   First Class     DH-3675   \n1   47596  CG-2012-2700  12/22/2012  12/24/2012  Second Class     DH-3675   \n\n   Customer Name      Segment          City       State    ...     \\\n0  Duane Huffman  Home Office  Antananarivo  Analamanga    ...      \n1  Duane Huffman  Home Office      Kinshasa    Kinshasa    ...      \n\n  Sub-Category                         Product Name       Sales Quantity  \\\n0     Machines                StarTech Printer, Red  $1,519.92       6.0   \n1    Bookcases  Dania Classic Bookcase, Traditional    $410.76       1.0   \n\n  Discount  Profit Shipping_Cost Order_Priority Return  Returned  \n0      0.0  653.40        286.20       Critical     No         0  \n1      0.0  176.61         73.81           High     No         0  \n\n[2 rows x 26 columns]"
          },
          "metadata": {}
        }
      ]
    },
    {
      "metadata": {
        "trusted": true
      },
      "cell_type": "code",
      "source": "df.tail()",
      "execution_count": 6,
      "outputs": [
        {
          "output_type": "execute_result",
          "execution_count": 6,
          "data": {
            "text/html": "<div>\n<style scoped>\n    .dataframe tbody tr th:only-of-type {\n        vertical-align: middle;\n    }\n\n    .dataframe tbody tr th {\n        vertical-align: top;\n    }\n\n    .dataframe thead th {\n        text-align: right;\n    }\n</style>\n<table border=\"1\" class=\"dataframe\">\n  <thead>\n    <tr style=\"text-align: right;\">\n      <th></th>\n      <th>Row ID</th>\n      <th>Order_ID</th>\n      <th>Order_Date</th>\n      <th>Ship_Date</th>\n      <th>Ship_Mode</th>\n      <th>Customer_ID</th>\n      <th>Customer Name</th>\n      <th>Segment</th>\n      <th>City</th>\n      <th>State</th>\n      <th>...</th>\n      <th>Sub-Category</th>\n      <th>Product Name</th>\n      <th>Sales</th>\n      <th>Quantity</th>\n      <th>Discount</th>\n      <th>Profit</th>\n      <th>Shipping_Cost</th>\n      <th>Order_Priority</th>\n      <th>Return</th>\n      <th>Returned</th>\n    </tr>\n  </thead>\n  <tbody>\n    <tr>\n      <th>21</th>\n      <td>41745</td>\n      <td>BU-2013-9680</td>\n      <td>9/9/2013</td>\n      <td>9/14/2013</td>\n      <td>Standard Class</td>\n      <td>DH-3675</td>\n      <td>Duane Huffman</td>\n      <td>Home Office</td>\n      <td>Sofia</td>\n      <td>Sofiya-Grad</td>\n      <td>...</td>\n      <td>Paper</td>\n      <td>Xerox Computer Printout Paper, Recycled</td>\n      <td>26.25</td>\n      <td>1.0</td>\n      <td>0.0</td>\n      <td>8.640</td>\n      <td>1.49</td>\n      <td>Medium</td>\n      <td>No</td>\n      <td>1</td>\n    </tr>\n    <tr>\n      <th>22</th>\n      <td>42851</td>\n      <td>TU-2013-3950</td>\n      <td>4/5/2013</td>\n      <td>4/6/2013</td>\n      <td>First Class</td>\n      <td>DH-3675</td>\n      <td>Duane Huffman</td>\n      <td>Home Office</td>\n      <td>Istanbul</td>\n      <td>Istanbul</td>\n      <td>...</td>\n      <td>Supplies</td>\n      <td>Kleencut Ruler, Easy Grip</td>\n      <td>6.07</td>\n      <td>1.0</td>\n      <td>0.6</td>\n      <td>-8.808</td>\n      <td>1.20</td>\n      <td>High</td>\n      <td>No</td>\n      <td>1</td>\n    </tr>\n    <tr>\n      <th>23</th>\n      <td>43579</td>\n      <td>RS-2011-8340</td>\n      <td>4/13/2011</td>\n      <td>4/13/2011</td>\n      <td>Same Day</td>\n      <td>DH-3675</td>\n      <td>Rodger John</td>\n      <td>Home Office</td>\n      <td>Ufa</td>\n      <td>Bashkortostan</td>\n      <td>...</td>\n      <td>Envelopes</td>\n      <td>Jiffy Business Envelopes, Recycled</td>\n      <td>18.36</td>\n      <td>1.0</td>\n      <td>0.0</td>\n      <td>3.300</td>\n      <td>1.20</td>\n      <td>Medium</td>\n      <td>No</td>\n      <td>1</td>\n    </tr>\n    <tr>\n      <th>24</th>\n      <td>46793</td>\n      <td>IZ-2014-3850</td>\n      <td>12/11/2014</td>\n      <td>12/15/2014</td>\n      <td>Standard Class</td>\n      <td>DH-3675</td>\n      <td>Rodger John</td>\n      <td>Home Office</td>\n      <td>Baghdad</td>\n      <td>Baghdad</td>\n      <td>...</td>\n      <td>Furnishings</td>\n      <td>Rubbermaid Light Bulb, Black</td>\n      <td>18.84</td>\n      <td>NaN</td>\n      <td>0.0</td>\n      <td>8.460</td>\n      <td>0.93</td>\n      <td>Medium</td>\n      <td>No</td>\n      <td>0</td>\n    </tr>\n    <tr>\n      <th>25</th>\n      <td>47999</td>\n      <td>CG-2012-2700</td>\n      <td>12/22/2012</td>\n      <td>12/24/2012</td>\n      <td>Second Class</td>\n      <td>DH-3675</td>\n      <td>Duane Huffman</td>\n      <td>Home Office</td>\n      <td>Kinshasa</td>\n      <td>Kinshasa</td>\n      <td>...</td>\n      <td>Phones</td>\n      <td>Apple Speaker Phone, VoIP</td>\n      <td>246.78</td>\n      <td>2.0</td>\n      <td>0.0</td>\n      <td>98.700</td>\n      <td>19.04</td>\n      <td>High</td>\n      <td>No</td>\n      <td>0</td>\n    </tr>\n  </tbody>\n</table>\n<p>5 rows × 26 columns</p>\n</div>",
            "text/plain": "    Row ID      Order_ID  Order_Date   Ship_Date       Ship_Mode Customer_ID  \\\n21   41745  BU-2013-9680    9/9/2013   9/14/2013  Standard Class     DH-3675   \n22   42851  TU-2013-3950    4/5/2013    4/6/2013     First Class     DH-3675   \n23   43579  RS-2011-8340   4/13/2011   4/13/2011        Same Day     DH-3675   \n24   46793  IZ-2014-3850  12/11/2014  12/15/2014  Standard Class     DH-3675   \n25   47999  CG-2012-2700  12/22/2012  12/24/2012    Second Class     DH-3675   \n\n    Customer Name      Segment      City          State    ...     \\\n21  Duane Huffman  Home Office     Sofia    Sofiya-Grad    ...      \n22  Duane Huffman  Home Office  Istanbul       Istanbul    ...      \n23    Rodger John  Home Office       Ufa  Bashkortostan    ...      \n24    Rodger John  Home Office   Baghdad        Baghdad    ...      \n25  Duane Huffman  Home Office  Kinshasa       Kinshasa    ...      \n\n   Sub-Category                             Product Name   Sales Quantity  \\\n21        Paper  Xerox Computer Printout Paper, Recycled   26.25      1.0   \n22     Supplies                Kleencut Ruler, Easy Grip    6.07      1.0   \n23    Envelopes       Jiffy Business Envelopes, Recycled   18.36      1.0   \n24  Furnishings             Rubbermaid Light Bulb, Black   18.84      NaN   \n25       Phones                Apple Speaker Phone, VoIP  246.78      2.0   \n\n   Discount  Profit Shipping_Cost Order_Priority Return  Returned  \n21      0.0   8.640          1.49         Medium     No         1  \n22      0.6  -8.808          1.20           High     No         1  \n23      0.0   3.300          1.20         Medium     No         1  \n24      0.0   8.460          0.93         Medium     No         0  \n25      0.0  98.700         19.04           High     No         0  \n\n[5 rows x 26 columns]"
          },
          "metadata": {}
        }
      ]
    },
    {
      "metadata": {
        "trusted": true
      },
      "cell_type": "code",
      "source": "df.dtypes",
      "execution_count": 8,
      "outputs": [
        {
          "output_type": "execute_result",
          "execution_count": 8,
          "data": {
            "text/plain": "Row ID              int64\nOrder_ID           object\nOrder_Date         object\nShip_Date          object\nShip_Mode          object\nCustomer_ID        object\nCustomer Name      object\nSegment            object\nCity               object\nState              object\nCountry            object\nPostal Code       float64\nMarket             object\nRegion             object\nProduct ID         object\nCategory           object\nSub-Category       object\nProduct Name       object\nSales              object\nQuantity          float64\nDiscount          float64\nProfit            float64\nShipping_Cost     float64\nOrder_Priority     object\nReturn             object\nReturned            int64\ndtype: object"
          },
          "metadata": {}
        }
      ]
    },
    {
      "metadata": {
        "trusted": true
      },
      "cell_type": "code",
      "source": "df.columns",
      "execution_count": 9,
      "outputs": [
        {
          "output_type": "execute_result",
          "execution_count": 9,
          "data": {
            "text/plain": "Index(['Row ID', 'Order_ID', 'Order_Date', 'Ship_Date', 'Ship_Mode',\n       'Customer_ID', 'Customer Name', 'Segment', 'City', 'State', 'Country',\n       'Postal Code', 'Market', 'Region', 'Product ID', 'Category',\n       'Sub-Category', 'Product Name', 'Sales', 'Quantity', 'Discount',\n       'Profit', 'Shipping_Cost', 'Order_Priority', 'Return', 'Returned'],\n      dtype='object')"
          },
          "metadata": {}
        }
      ]
    },
    {
      "metadata": {
        "trusted": true
      },
      "cell_type": "code",
      "source": "df.isnull().sum()",
      "execution_count": 11,
      "outputs": [
        {
          "output_type": "execute_result",
          "execution_count": 11,
          "data": {
            "text/plain": "Row ID             0\nOrder_ID           0\nOrder_Date         0\nShip_Date          0\nShip_Mode          0\nCustomer_ID        0\nCustomer Name      0\nSegment            0\nCity               0\nState              0\nCountry            0\nPostal Code       26\nMarket             0\nRegion             0\nProduct ID         0\nCategory           0\nSub-Category       0\nProduct Name       0\nSales              0\nQuantity           2\nDiscount           0\nProfit             0\nShipping_Cost      0\nOrder_Priority     0\nReturn             0\nReturned           0\ndtype: int64"
          },
          "metadata": {}
        }
      ]
    },
    {
      "metadata": {
        "trusted": true
      },
      "cell_type": "code",
      "source": "df[df.duplicated()]",
      "execution_count": 15,
      "outputs": [
        {
          "output_type": "execute_result",
          "execution_count": 15,
          "data": {
            "text/html": "<div>\n<style scoped>\n    .dataframe tbody tr th:only-of-type {\n        vertical-align: middle;\n    }\n\n    .dataframe tbody tr th {\n        vertical-align: top;\n    }\n\n    .dataframe thead th {\n        text-align: right;\n    }\n</style>\n<table border=\"1\" class=\"dataframe\">\n  <thead>\n    <tr style=\"text-align: right;\">\n      <th></th>\n      <th>Row ID</th>\n      <th>Order_ID</th>\n      <th>Order_Date</th>\n      <th>Ship_Date</th>\n      <th>Ship_Mode</th>\n      <th>Customer_ID</th>\n      <th>Customer Name</th>\n      <th>Segment</th>\n      <th>City</th>\n      <th>State</th>\n      <th>...</th>\n      <th>Sub-Category</th>\n      <th>Product Name</th>\n      <th>Sales</th>\n      <th>Quantity</th>\n      <th>Discount</th>\n      <th>Profit</th>\n      <th>Shipping_Cost</th>\n      <th>Order_Priority</th>\n      <th>Return</th>\n      <th>Returned</th>\n    </tr>\n  </thead>\n  <tbody>\n  </tbody>\n</table>\n<p>0 rows × 26 columns</p>\n</div>",
            "text/plain": "Empty DataFrame\nColumns: [Row ID, Order_ID, Order_Date, Ship_Date, Ship_Mode, Customer_ID, Customer Name, Segment, City, State, Country, Postal Code, Market, Region, Product ID, Category, Sub-Category, Product Name, Sales, Quantity, Discount, Profit, Shipping_Cost, Order_Priority, Return, Returned]\nIndex: []\n\n[0 rows x 26 columns]"
          },
          "metadata": {}
        }
      ]
    },
    {
      "metadata": {
        "trusted": true
      },
      "cell_type": "code",
      "source": "df['Category'].unique()",
      "execution_count": 18,
      "outputs": [
        {
          "output_type": "execute_result",
          "execution_count": 18,
          "data": {
            "text/plain": "array(['Technology', 'Furniture', 'Office Supplies'], dtype=object)"
          },
          "metadata": {}
        }
      ]
    },
    {
      "metadata": {
        "trusted": true
      },
      "cell_type": "code",
      "source": "df[['Category','Sales']]",
      "execution_count": 20,
      "outputs": [
        {
          "output_type": "execute_result",
          "execution_count": 20,
          "data": {
            "text/html": "<div>\n<style scoped>\n    .dataframe tbody tr th:only-of-type {\n        vertical-align: middle;\n    }\n\n    .dataframe tbody tr th {\n        vertical-align: top;\n    }\n\n    .dataframe thead th {\n        text-align: right;\n    }\n</style>\n<table border=\"1\" class=\"dataframe\">\n  <thead>\n    <tr style=\"text-align: right;\">\n      <th></th>\n      <th>Category</th>\n      <th>Sales</th>\n    </tr>\n  </thead>\n  <tbody>\n    <tr>\n      <th>0</th>\n      <td>Technology</td>\n      <td>$1,519.92</td>\n    </tr>\n    <tr>\n      <th>1</th>\n      <td>Furniture</td>\n      <td>$410.76</td>\n    </tr>\n    <tr>\n      <th>2</th>\n      <td>Furniture</td>\n      <td>534.72</td>\n    </tr>\n    <tr>\n      <th>3</th>\n      <td>Technology</td>\n      <td>249.18</td>\n    </tr>\n    <tr>\n      <th>4</th>\n      <td>Office Supplies</td>\n      <td>111.38</td>\n    </tr>\n    <tr>\n      <th>5</th>\n      <td>Office Supplies</td>\n      <td>111.38</td>\n    </tr>\n    <tr>\n      <th>6</th>\n      <td>Office Supplies</td>\n      <td>581.04</td>\n    </tr>\n    <tr>\n      <th>7</th>\n      <td>Technology</td>\n      <td>414.36</td>\n    </tr>\n    <tr>\n      <th>8</th>\n      <td>Technology</td>\n      <td>246.78</td>\n    </tr>\n    <tr>\n      <th>9</th>\n      <td>Office Supplies</td>\n      <td>96.12</td>\n    </tr>\n    <tr>\n      <th>10</th>\n      <td>Office Supplies</td>\n      <td>56.92</td>\n    </tr>\n    <tr>\n      <th>11</th>\n      <td>Technology</td>\n      <td>31.75</td>\n    </tr>\n    <tr>\n      <th>12</th>\n      <td>Office Supplies</td>\n      <td>69.84</td>\n    </tr>\n    <tr>\n      <th>13</th>\n      <td>Office Supplies</td>\n      <td>14.52</td>\n    </tr>\n    <tr>\n      <th>14</th>\n      <td>Office Supplies</td>\n      <td>53.73</td>\n    </tr>\n    <tr>\n      <th>15</th>\n      <td>Office Supplies</td>\n      <td>50.46</td>\n    </tr>\n    <tr>\n      <th>16</th>\n      <td>Office Supplies</td>\n      <td>49.92</td>\n    </tr>\n    <tr>\n      <th>17</th>\n      <td>Office Supplies</td>\n      <td>26.22</td>\n    </tr>\n    <tr>\n      <th>18</th>\n      <td>Office Supplies</td>\n      <td>29.67</td>\n    </tr>\n    <tr>\n      <th>19</th>\n      <td>Office Supplies</td>\n      <td>25.23</td>\n    </tr>\n    <tr>\n      <th>20</th>\n      <td>Office Supplies</td>\n      <td>19.8</td>\n    </tr>\n    <tr>\n      <th>21</th>\n      <td>Office Supplies</td>\n      <td>26.25</td>\n    </tr>\n    <tr>\n      <th>22</th>\n      <td>Office Supplies</td>\n      <td>6.07</td>\n    </tr>\n    <tr>\n      <th>23</th>\n      <td>Office Supplies</td>\n      <td>18.36</td>\n    </tr>\n    <tr>\n      <th>24</th>\n      <td>Furniture</td>\n      <td>18.84</td>\n    </tr>\n    <tr>\n      <th>25</th>\n      <td>Technology</td>\n      <td>246.78</td>\n    </tr>\n  </tbody>\n</table>\n</div>",
            "text/plain": "           Category       Sales\n0        Technology  $1,519.92 \n1         Furniture    $410.76 \n2         Furniture      534.72\n3        Technology      249.18\n4   Office Supplies      111.38\n5   Office Supplies      111.38\n6   Office Supplies      581.04\n7        Technology      414.36\n8        Technology      246.78\n9   Office Supplies       96.12\n10  Office Supplies       56.92\n11       Technology       31.75\n12  Office Supplies       69.84\n13  Office Supplies       14.52\n14  Office Supplies       53.73\n15  Office Supplies       50.46\n16  Office Supplies       49.92\n17  Office Supplies       26.22\n18  Office Supplies       29.67\n19  Office Supplies       25.23\n20  Office Supplies        19.8\n21  Office Supplies       26.25\n22  Office Supplies        6.07\n23  Office Supplies       18.36\n24        Furniture       18.84\n25       Technology      246.78"
          },
          "metadata": {}
        }
      ]
    },
    {
      "metadata": {
        "trusted": true
      },
      "cell_type": "code",
      "source": "df[df['Quantity']>4]",
      "execution_count": 22,
      "outputs": [
        {
          "output_type": "execute_result",
          "execution_count": 22,
          "data": {
            "text/html": "<div>\n<style scoped>\n    .dataframe tbody tr th:only-of-type {\n        vertical-align: middle;\n    }\n\n    .dataframe tbody tr th {\n        vertical-align: top;\n    }\n\n    .dataframe thead th {\n        text-align: right;\n    }\n</style>\n<table border=\"1\" class=\"dataframe\">\n  <thead>\n    <tr style=\"text-align: right;\">\n      <th></th>\n      <th>Row ID</th>\n      <th>Order_ID</th>\n      <th>Order_Date</th>\n      <th>Ship_Date</th>\n      <th>Ship_Mode</th>\n      <th>Customer_ID</th>\n      <th>Customer Name</th>\n      <th>Segment</th>\n      <th>City</th>\n      <th>State</th>\n      <th>...</th>\n      <th>Sub-Category</th>\n      <th>Product Name</th>\n      <th>Sales</th>\n      <th>Quantity</th>\n      <th>Discount</th>\n      <th>Profit</th>\n      <th>Shipping_Cost</th>\n      <th>Order_Priority</th>\n      <th>Return</th>\n      <th>Returned</th>\n    </tr>\n  </thead>\n  <tbody>\n    <tr>\n      <th>0</th>\n      <td>41520</td>\n      <td>MA-2013-1850</td>\n      <td>10/14/2013</td>\n      <td>10/15/2013</td>\n      <td>First Class</td>\n      <td>DH-3675</td>\n      <td>Duane Huffman</td>\n      <td>Home Office</td>\n      <td>Antananarivo</td>\n      <td>Analamanga</td>\n      <td>...</td>\n      <td>Machines</td>\n      <td>StarTech Printer, Red</td>\n      <td>$1,519.92</td>\n      <td>6.0</td>\n      <td>0.0</td>\n      <td>653.400</td>\n      <td>286.20</td>\n      <td>Critical</td>\n      <td>No</td>\n      <td>0</td>\n    </tr>\n    <tr>\n      <th>6</th>\n      <td>42655</td>\n      <td>AG-2011-1390</td>\n      <td>8/16/2011</td>\n      <td>8/21/2011</td>\n      <td>Standard Class</td>\n      <td>DH-3675</td>\n      <td>Duane Huffman</td>\n      <td>Home Office</td>\n      <td>Bejaia</td>\n      <td>Bejaia</td>\n      <td>...</td>\n      <td>Paper</td>\n      <td>SanDisk Cards &amp; Envelopes, Premium</td>\n      <td>581.04</td>\n      <td>12.0</td>\n      <td>0.0</td>\n      <td>220.680</td>\n      <td>35.32</td>\n      <td>Medium</td>\n      <td>No</td>\n      <td>0</td>\n    </tr>\n    <tr>\n      <th>10</th>\n      <td>43461</td>\n      <td>NI-2014-2000</td>\n      <td>6/17/2014</td>\n      <td>6/22/2014</td>\n      <td>Standard Class</td>\n      <td>DH-3675</td>\n      <td>Duane Huffman</td>\n      <td>Home Office</td>\n      <td>Port Harcourt</td>\n      <td>Rivers</td>\n      <td>...</td>\n      <td>Binders</td>\n      <td>Acco 3-Hole Punch, Durable</td>\n      <td>56.92</td>\n      <td>6.0</td>\n      <td>0.7</td>\n      <td>-55.044</td>\n      <td>6.58</td>\n      <td>Medium</td>\n      <td>No</td>\n      <td>1</td>\n    </tr>\n  </tbody>\n</table>\n<p>3 rows × 26 columns</p>\n</div>",
            "text/plain": "    Row ID      Order_ID  Order_Date   Ship_Date       Ship_Mode Customer_ID  \\\n0    41520  MA-2013-1850  10/14/2013  10/15/2013     First Class     DH-3675   \n6    42655  AG-2011-1390   8/16/2011   8/21/2011  Standard Class     DH-3675   \n10   43461  NI-2014-2000   6/17/2014   6/22/2014  Standard Class     DH-3675   \n\n    Customer Name      Segment           City       State    ...     \\\n0   Duane Huffman  Home Office   Antananarivo  Analamanga    ...      \n6   Duane Huffman  Home Office         Bejaia      Bejaia    ...      \n10  Duane Huffman  Home Office  Port Harcourt      Rivers    ...      \n\n   Sub-Category                        Product Name       Sales Quantity  \\\n0      Machines               StarTech Printer, Red  $1,519.92       6.0   \n6         Paper  SanDisk Cards & Envelopes, Premium      581.04     12.0   \n10      Binders          Acco 3-Hole Punch, Durable       56.92      6.0   \n\n   Discount   Profit Shipping_Cost Order_Priority Return  Returned  \n0       0.0  653.400        286.20       Critical     No         0  \n6       0.0  220.680         35.32         Medium     No         0  \n10      0.7  -55.044          6.58         Medium     No         1  \n\n[3 rows x 26 columns]"
          },
          "metadata": {}
        }
      ]
    },
    {
      "metadata": {
        "trusted": true
      },
      "cell_type": "code",
      "source": "df.loc[df['Quantity']>4,['Category','Product Name'] ]",
      "execution_count": 26,
      "outputs": [
        {
          "output_type": "execute_result",
          "execution_count": 26,
          "data": {
            "text/html": "<div>\n<style scoped>\n    .dataframe tbody tr th:only-of-type {\n        vertical-align: middle;\n    }\n\n    .dataframe tbody tr th {\n        vertical-align: top;\n    }\n\n    .dataframe thead th {\n        text-align: right;\n    }\n</style>\n<table border=\"1\" class=\"dataframe\">\n  <thead>\n    <tr style=\"text-align: right;\">\n      <th></th>\n      <th>Category</th>\n      <th>Product Name</th>\n    </tr>\n  </thead>\n  <tbody>\n    <tr>\n      <th>0</th>\n      <td>Technology</td>\n      <td>StarTech Printer, Red</td>\n    </tr>\n    <tr>\n      <th>6</th>\n      <td>Office Supplies</td>\n      <td>SanDisk Cards &amp; Envelopes, Premium</td>\n    </tr>\n    <tr>\n      <th>10</th>\n      <td>Office Supplies</td>\n      <td>Acco 3-Hole Punch, Durable</td>\n    </tr>\n  </tbody>\n</table>\n</div>",
            "text/plain": "           Category                        Product Name\n0        Technology               StarTech Printer, Red\n6   Office Supplies  SanDisk Cards & Envelopes, Premium\n10  Office Supplies          Acco 3-Hole Punch, Durable"
          },
          "metadata": {}
        }
      ]
    },
    {
      "metadata": {
        "trusted": true
      },
      "cell_type": "code",
      "source": "",
      "execution_count": null,
      "outputs": []
    }
  ],
  "metadata": {
    "kernelspec": {
      "name": "python36",
      "display_name": "Python 3.6",
      "language": "python"
    },
    "language_info": {
      "mimetype": "text/x-python",
      "nbconvert_exporter": "python",
      "name": "python",
      "pygments_lexer": "ipython3",
      "version": "3.6.6",
      "file_extension": ".py",
      "codemirror_mode": {
        "version": 3,
        "name": "ipython"
      }
    }
  },
  "nbformat": 4,
  "nbformat_minor": 2
}