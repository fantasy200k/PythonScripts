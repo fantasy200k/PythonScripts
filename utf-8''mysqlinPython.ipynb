{
  "cells": [
    {
      "metadata": {
        "trusted": false
      },
      "cell_type": "code",
      "source": "print(\"Om vakraduntaaya Namah\")",
      "execution_count": 43,
      "outputs": [
        {
          "name": "stdout",
          "output_type": "stream",
          "text": "Om vakraduntaaya Namah\n"
        }
      ]
    },
    {
      "metadata": {
        "trusted": false
      },
      "cell_type": "code",
      "source": "import numpy as np\nimport mysql.connector",
      "execution_count": 32,
      "outputs": []
    },
    {
      "metadata": {},
      "cell_type": "markdown",
      "source": "## You can download and  install mysql on your laptop \nhttps://dev.mysql.com/downloads/installer/"
    },
    {
      "metadata": {
        "trusted": false
      },
      "cell_type": "code",
      "source": "mydb = mysql.connector.connect(\n  host=\"localhost\",\n  user=\"root\",\n  password=\"admin\"\n)\n\nmycursor = mydb.cursor()\n\n#mycursor.execute(\"CREATE DATABASE mydatabase\")",
      "execution_count": 66,
      "outputs": []
    },
    {
      "metadata": {
        "trusted": false
      },
      "cell_type": "code",
      "source": "mycursor.execute(\"SHOW DATABASES\")",
      "execution_count": 67,
      "outputs": []
    },
    {
      "metadata": {
        "trusted": false
      },
      "cell_type": "code",
      "source": "for x in mycursor:\n  print(x) ",
      "execution_count": 68,
      "outputs": [
        {
          "name": "stdout",
          "output_type": "stream",
          "text": "('information_schema',)\n('mydatabase',)\n('mysql',)\n('performance_schema',)\n('sakila',)\n('sys',)\n('world',)\n"
        }
      ]
    },
    {
      "metadata": {
        "trusted": false
      },
      "cell_type": "code",
      "source": "#mycursor.execute(\"CREATE TABLE customers (name VARCHAR(255), address VARCHAR(255))\")",
      "execution_count": 8,
      "outputs": []
    },
    {
      "metadata": {
        "trusted": false
      },
      "cell_type": "code",
      "source": "mycursor.execute(\"use mydatabase\")  \nmycursor.execute(\"SHOW TABLES\")  \nfor x in mycursor: \n    print(x) ",
      "execution_count": 69,
      "outputs": [
        {
          "name": "stdout",
          "output_type": "stream",
          "text": "('contact',)\n('customers',)\n('employee',)\n"
        }
      ]
    },
    {
      "metadata": {
        "trusted": false
      },
      "cell_type": "code",
      "source": "for x in mycursor:\n  print(x) ",
      "execution_count": 70,
      "outputs": []
    },
    {
      "metadata": {
        "trusted": false
      },
      "cell_type": "code",
      "source": "mycursor.execute(\"ALTER TABLE customers ADD COLUMN id INT AUTO_INCREMENT PRIMARY KEY\") ",
      "execution_count": 10,
      "outputs": []
    },
    {
      "metadata": {
        "trusted": false
      },
      "cell_type": "code",
      "source": "sql = \"INSERT INTO customers (name, address) VALUES (%s, %s)\"\nval = (\"John\", \"Highway 21\")\nmycursor.execute(sql, val)\n\nmydb.commit()\n\nprint(mycursor.rowcount, \"record inserted.\")",
      "execution_count": 60,
      "outputs": [
        {
          "name": "stdout",
          "output_type": "stream",
          "text": "1 record inserted.\n"
        }
      ]
    },
    {
      "metadata": {
        "trusted": false
      },
      "cell_type": "code",
      "source": "sql = \"INSERT INTO customers (name, address) VALUES (%s, %s)\"\nval = [\n  ('Peter', 'Lowstreet 4'),\n  ('Amy', 'Apple st 652'),\n  ('Hannah', 'Mountain 21'),\n  ('Michael', 'Valley 345'),\n  ('Sandy', 'Ocean blvd 2'),\n  ('Betty', 'Green Grass 1'),\n  ('Richard', 'Sky st 331'),\n  ('Susan', 'One way 98'),\n  ('Vicky', 'Yellow Garden 2'),\n  ('Ben', 'Park Lane 38'),\n  ('William', 'Central st 954'),\n  ('Chuck', 'Main Road 989'),\n  ('Viola', 'Sideway 1633')\n]\n\nmycursor.executemany(sql, val)\n\nmydb.commit()\n\nprint(mycursor.rowcount, \"was inserted.\") ",
      "execution_count": 61,
      "outputs": [
        {
          "name": "stdout",
          "output_type": "stream",
          "text": "13 was inserted.\n"
        }
      ]
    },
    {
      "metadata": {
        "trusted": false
      },
      "cell_type": "code",
      "source": "mycursor.execute(\"SELECT * FROM customers\")\n\nmyresult = mycursor.fetchall()\n\nfor x in myresult:\n  print(x)",
      "execution_count": 62,
      "outputs": [
        {
          "name": "stdout",
          "output_type": "stream",
          "text": "('John', 'Highway 21', 1)\n('Peter', 'Lowstreet 4', 2)\n('Amy', 'Apple st 652', 3)\n('Hannah', 'Mountain 21', 4)\n('Michael', 'Valley 345', 5)\n('Sandy', 'Ocean blvd 2', 6)\n('Betty', 'Green Grass 1', 7)\n('Richard', 'Sky st 331', 8)\n('Susan', 'One way 98', 9)\n('Vicky', 'Yellow Garden 2', 10)\n('Ben', 'Park Lane 38', 11)\n('William', 'Central st 954', 12)\n('Chuck', 'Main Road 989', 13)\n('Viola', 'Sideway 1633', 14)\n('John', 'Highway 21', 15)\n('Peter', 'Lowstreet 4', 16)\n('Amy', 'Apple st 652', 17)\n('Hannah', 'Mountain 21', 18)\n('Michael', 'Valley 345', 19)\n('Sandy', 'Ocean blvd 2', 20)\n('Betty', 'Green Grass 1', 21)\n('Richard', 'Sky st 331', 22)\n('Susan', 'One way 98', 23)\n('Vicky', 'Yellow Garden 2', 24)\n('Ben', 'Park Lane 38', 25)\n('William', 'Central st 954', 26)\n('Chuck', 'Main Road 989', 27)\n('Viola', 'Sideway 1633', 28)\n"
        }
      ]
    },
    {
      "metadata": {},
      "cell_type": "markdown",
      "source": "Using the fetchone() Method\n\nIf you are only interested in one row, you can use the fetchone() method.\n\nThe fetchone() method will return the first row of the result:"
    },
    {
      "metadata": {
        "trusted": false
      },
      "cell_type": "code",
      "source": "mycursor.execute(\"SELECT * FROM customers\")\n\nmyresult = mycursor.fetchone()\n\nprint(myresult) ",
      "execution_count": 63,
      "outputs": [
        {
          "name": "stdout",
          "output_type": "stream",
          "text": "('John', 'Highway 21', 1)\n"
        }
      ]
    },
    {
      "metadata": {},
      "cell_type": "markdown",
      "source": "# Select With a Filter"
    },
    {
      "metadata": {
        "trusted": false
      },
      "cell_type": "code",
      "source": "sql = \"SELECT * FROM customers WHERE address ='Park Lane 38'\"\n\nmycursor.execute(sql)\n\nmyresult = mycursor.fetchall()\n\nfor x in myresult:\n    print(x)",
      "execution_count": 71,
      "outputs": [
        {
          "name": "stdout",
          "output_type": "stream",
          "text": "('Ben', 'Park Lane 38', 11)\n('Ben', 'Park Lane 38', 25)\n"
        }
      ]
    },
    {
      "metadata": {
        "trusted": false
      },
      "cell_type": "code",
      "source": "mycursor = mydb.cursor()\nsql = \"SELECT * FROM customers WHERE address LIKE '%way%'\"\n\nmycursor.execute(sql)\n\nmyresult = mycursor.fetchall()\n\nfor x in myresult:\n    print(x) ",
      "execution_count": 72,
      "outputs": [
        {
          "name": "stdout",
          "output_type": "stream",
          "text": "('John', 'Highway 21', 1)\n('Susan', 'One way 98', 9)\n('Viola', 'Sideway 1633', 14)\n('John', 'Highway 21', 15)\n('Susan', 'One way 98', 23)\n('Viola', 'Sideway 1633', 28)\n"
        }
      ]
    },
    {
      "metadata": {
        "trusted": false
      },
      "cell_type": "code",
      "source": "mydb = mysql.connector.connect(\n  host=\"localhost\",\n  user=\"root\",\n  password=\"admin\"\n)\nmycursor = mydb.cursor()\nmycursor.execute(\"use mydatabase\")  \nmycursor.execute(\"show databases\")  \n\n\n\n\n#Retrieving single row\nsql = '''SELECT * from EMPLOYEE INNER JOIN CONTACT ON EMPLOYEE.CONTACT = CONTACT.ID'''\n#sql = \"SELECT * from EMPLOYEE INNER JOIN CONTACT ON EMPLOYEE.CONTACT = CONTACT.ID\"\n#Executing the query\nmycursor.execute(sql)",
      "execution_count": 65,
      "outputs": [
        {
          "ename": "InternalError",
          "evalue": "Unread result found",
          "output_type": "error",
          "traceback": [
            "\u001b[1;31m---------------------------------------------------------------------------\u001b[0m",
            "\u001b[1;31mInternalError\u001b[0m                             Traceback (most recent call last)",
            "\u001b[1;32m<ipython-input-65-a21bb1ee65b3>\u001b[0m in \u001b[0;36m<module>\u001b[1;34m\u001b[0m\n\u001b[0;32m     15\u001b[0m \u001b[1;31m#sql = \"SELECT * from EMPLOYEE INNER JOIN CONTACT ON EMPLOYEE.CONTACT = CONTACT.ID\"\u001b[0m\u001b[1;33m\u001b[0m\u001b[1;33m\u001b[0m\u001b[1;33m\u001b[0m\u001b[0m\n\u001b[0;32m     16\u001b[0m \u001b[1;31m#Executing the query\u001b[0m\u001b[1;33m\u001b[0m\u001b[1;33m\u001b[0m\u001b[1;33m\u001b[0m\u001b[0m\n\u001b[1;32m---> 17\u001b[1;33m \u001b[0mmycursor\u001b[0m\u001b[1;33m.\u001b[0m\u001b[0mexecute\u001b[0m\u001b[1;33m(\u001b[0m\u001b[0msql\u001b[0m\u001b[1;33m)\u001b[0m\u001b[1;33m\u001b[0m\u001b[1;33m\u001b[0m\u001b[0m\n\u001b[0m",
            "\u001b[1;32m~\\Anaconda3\\lib\\site-packages\\mysql\\connector\\cursor_cext.py\u001b[0m in \u001b[0;36mexecute\u001b[1;34m(self, operation, params, multi)\u001b[0m\n\u001b[0;32m    232\u001b[0m         \u001b[1;32mif\u001b[0m \u001b[1;32mnot\u001b[0m \u001b[0mself\u001b[0m\u001b[1;33m.\u001b[0m\u001b[0m_cnx\u001b[0m\u001b[1;33m:\u001b[0m\u001b[1;33m\u001b[0m\u001b[1;33m\u001b[0m\u001b[0m\n\u001b[0;32m    233\u001b[0m             \u001b[1;32mraise\u001b[0m \u001b[0merrors\u001b[0m\u001b[1;33m.\u001b[0m\u001b[0mProgrammingError\u001b[0m\u001b[1;33m(\u001b[0m\u001b[1;34m\"Cursor is not connected\"\u001b[0m\u001b[1;33m)\u001b[0m\u001b[1;33m\u001b[0m\u001b[1;33m\u001b[0m\u001b[0m\n\u001b[1;32m--> 234\u001b[1;33m         \u001b[0mself\u001b[0m\u001b[1;33m.\u001b[0m\u001b[0m_cnx\u001b[0m\u001b[1;33m.\u001b[0m\u001b[0mhandle_unread_result\u001b[0m\u001b[1;33m(\u001b[0m\u001b[1;33m)\u001b[0m\u001b[1;33m\u001b[0m\u001b[1;33m\u001b[0m\u001b[0m\n\u001b[0m\u001b[0;32m    235\u001b[0m \u001b[1;33m\u001b[0m\u001b[0m\n\u001b[0;32m    236\u001b[0m         \u001b[0mstmt\u001b[0m \u001b[1;33m=\u001b[0m \u001b[1;34m''\u001b[0m\u001b[1;33m\u001b[0m\u001b[1;33m\u001b[0m\u001b[0m\n",
            "\u001b[1;32m~\\Anaconda3\\lib\\site-packages\\mysql\\connector\\connection_cext.py\u001b[0m in \u001b[0;36mhandle_unread_result\u001b[1;34m(self, prepared)\u001b[0m\n\u001b[0;32m    710\u001b[0m             \u001b[0mself\u001b[0m\u001b[1;33m.\u001b[0m\u001b[0mconsume_results\u001b[0m\u001b[1;33m(\u001b[0m\u001b[1;33m)\u001b[0m\u001b[1;33m\u001b[0m\u001b[1;33m\u001b[0m\u001b[0m\n\u001b[0;32m    711\u001b[0m         \u001b[1;32melif\u001b[0m \u001b[0munread_result\u001b[0m\u001b[1;33m:\u001b[0m\u001b[1;33m\u001b[0m\u001b[1;33m\u001b[0m\u001b[0m\n\u001b[1;32m--> 712\u001b[1;33m             \u001b[1;32mraise\u001b[0m \u001b[0merrors\u001b[0m\u001b[1;33m.\u001b[0m\u001b[0mInternalError\u001b[0m\u001b[1;33m(\u001b[0m\u001b[1;34m\"Unread result found\"\u001b[0m\u001b[1;33m)\u001b[0m\u001b[1;33m\u001b[0m\u001b[1;33m\u001b[0m\u001b[0m\n\u001b[0m",
            "\u001b[1;31mInternalError\u001b[0m: Unread result found"
          ]
        }
      ]
    },
    {
      "metadata": {
        "trusted": false
      },
      "cell_type": "code",
      "source": "",
      "execution_count": null,
      "outputs": []
    }
  ],
  "metadata": {
    "kernelspec": {
      "name": "python3",
      "display_name": "Python 3",
      "language": "python"
    },
    "language_info": {
      "mimetype": "text/x-python",
      "nbconvert_exporter": "python",
      "name": "python",
      "pygments_lexer": "ipython3",
      "version": "3.5.4",
      "file_extension": ".py",
      "codemirror_mode": {
        "version": 3,
        "name": "ipython"
      }
    }
  },
  "nbformat": 4,
  "nbformat_minor": 2
}